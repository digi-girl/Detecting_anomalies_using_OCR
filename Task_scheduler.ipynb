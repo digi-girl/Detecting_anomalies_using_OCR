{
 "cells": [
  {
   "cell_type": "code",
   "execution_count": 34,
   "metadata": {},
   "outputs": [
    {
     "name": "stdout",
     "output_type": "stream",
     "text": [
      "Connected to SQLite\n",
      "[(15, None, 'Com')]\n",
      "(15, None, 'Com')\n",
      "sqlite connection is closed\n",
      "Connected to SQLite\n",
      "[]\n",
      "sqlite connection is closed\n",
      "Connected to SQLite\n",
      "[]\n",
      "sqlite connection is closed\n",
      "Connected to SQLite\n",
      "[(16, None, 'Prof')]\n",
      "(16, None, 'Prof')\n",
      "sqlite connection is closed\n",
      "Connected to SQLite\n",
      "[]\n",
      "sqlite connection is closed\n"
     ]
    },
    {
     "ename": "KeyboardInterrupt",
     "evalue": "",
     "output_type": "error",
     "traceback": [
      "\u001b[1;31m---------------------------------------------------------------------------\u001b[0m",
      "\u001b[1;31mKeyboardInterrupt\u001b[0m                         Traceback (most recent call last)",
      "\u001b[1;32m<ipython-input-34-684548bfa82e>\u001b[0m in \u001b[0;36m<module>\u001b[1;34m\u001b[0m\n\u001b[0;32m     23\u001b[0m             \u001b[0msqliteConnection\u001b[0m\u001b[1;33m.\u001b[0m\u001b[0mclose\u001b[0m\u001b[1;33m(\u001b[0m\u001b[1;33m)\u001b[0m\u001b[1;33m\u001b[0m\u001b[1;33m\u001b[0m\u001b[0m\n\u001b[0;32m     24\u001b[0m             \u001b[0mprint\u001b[0m\u001b[1;33m(\u001b[0m\u001b[1;34m\"sqlite connection is closed\"\u001b[0m\u001b[1;33m)\u001b[0m\u001b[1;33m\u001b[0m\u001b[1;33m\u001b[0m\u001b[0m\n\u001b[1;32m---> 25\u001b[1;33m     \u001b[0mtime\u001b[0m\u001b[1;33m.\u001b[0m\u001b[0msleep\u001b[0m\u001b[1;33m(\u001b[0m\u001b[1;36m10\u001b[0m\u001b[1;33m)\u001b[0m\u001b[1;33m\u001b[0m\u001b[1;33m\u001b[0m\u001b[0m\n\u001b[0m",
      "\u001b[1;31mKeyboardInterrupt\u001b[0m: "
     ]
    }
   ],
   "source": [
    "import sqlite3,time\n",
    "while True:\n",
    "    try:\n",
    "        sqliteConnection = sqlite3.connect(r'C:\\Users\\AYA EL YOUSSOUFI\\OneDrive\\Documents\\Hostel-Web-main\\db_web.db')\n",
    "        cursor = sqliteConnection.cursor()\n",
    "        print(\"Connected to SQLite\")\n",
    "        cursor.execute(\"\"\"SELECT ID,File,Type from Files where check1=0\"\"\")\n",
    "        sqlite = \"\"\" INSERT INTO Output VALUES (?, ?, ?)\"\"\"\n",
    "        record = cursor.fetchall()\n",
    "        print(record)\n",
    "        i=0\n",
    "        for row in record:\n",
    "            print(row)\n",
    "            cursor.execute(sqlite, row)\n",
    "        cursor.execute(\"UPDATE Files SET check1=1 WHERE check1 = 0 \")\n",
    "        sqliteConnection.commit()\n",
    "        cursor.close()\n",
    "\n",
    "    except sqlite3.Error as error:\n",
    "        print(\"Failed to read blob data from sqlite table\", error)\n",
    "    finally:\n",
    "        if sqliteConnection:\n",
    "            sqliteConnection.close()\n",
    "            print(\"sqlite connection is closed\")\n",
    "    time.sleep(10)"
   ]
  },
  {
   "cell_type": "code",
   "execution_count": null,
   "metadata": {},
   "outputs": [],
   "source": []
  }
 ],
 "metadata": {
  "kernelspec": {
   "display_name": "Python 3",
   "language": "python",
   "name": "python3"
  },
  "language_info": {
   "codemirror_mode": {
    "name": "ipython",
    "version": 3
   },
   "file_extension": ".py",
   "mimetype": "text/x-python",
   "name": "python",
   "nbconvert_exporter": "python",
   "pygments_lexer": "ipython3",
   "version": "3.8.5"
  }
 },
 "nbformat": 4,
 "nbformat_minor": 4
}
